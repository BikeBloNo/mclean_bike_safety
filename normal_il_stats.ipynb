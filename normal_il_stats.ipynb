{
 "cells": [
  {
   "cell_type": "code",
   "execution_count": 88,
   "metadata": {
    "collapsed": true
   },
   "outputs": [],
   "source": [
    "%matplotlib inline\n",
    "import pandas as pd\n",
    "\n",
    "import plotly.plotly as py\n",
    "from plotly.graph_objs import *"
   ]
  },
  {
   "cell_type": "code",
   "execution_count": 99,
   "metadata": {
    "collapsed": false
   },
   "outputs": [],
   "source": [
    "import seaborn as sns"
   ]
  },
  {
   "cell_type": "code",
   "execution_count": 89,
   "metadata": {
    "collapsed": false
   },
   "outputs": [],
   "source": [
    "df = pd.read_csv(\"normal_il_data_w_geocode.csv\")\n",
    "df = df.drop(['Unnamed: 0'], axis=1)"
   ]
  },
  {
   "cell_type": "code",
   "execution_count": 90,
   "metadata": {
    "collapsed": false
   },
   "outputs": [
    {
     "data": {
      "text/html": [
       "<div>\n",
       "<table border=\"1\" class=\"dataframe\">\n",
       "  <thead>\n",
       "    <tr style=\"text-align: right;\">\n",
       "      <th></th>\n",
       "      <th>id</th>\n",
       "      <th>date</th>\n",
       "      <th>time</th>\n",
       "      <th>fault</th>\n",
       "      <th>motorist_name</th>\n",
       "      <th>motorist_gender</th>\n",
       "      <th>insured</th>\n",
       "      <th>veh_make</th>\n",
       "      <th>veh_model</th>\n",
       "      <th>veh_year</th>\n",
       "      <th>...</th>\n",
       "      <th>location_bike</th>\n",
       "      <th>arrest</th>\n",
       "      <th>officer_id</th>\n",
       "      <th>m_citation</th>\n",
       "      <th>m_section</th>\n",
       "      <th>c_citation</th>\n",
       "      <th>c_section</th>\n",
       "      <th>hospital</th>\n",
       "      <th>summary</th>\n",
       "      <th>lat_long</th>\n",
       "    </tr>\n",
       "  </thead>\n",
       "  <tbody>\n",
       "    <tr>\n",
       "      <th>0</th>\n",
       "      <td>14-358</td>\n",
       "      <td>03/26/14</td>\n",
       "      <td>05:18:00 PM</td>\n",
       "      <td>cyclist</td>\n",
       "      <td>Jonathan T. Coughlon</td>\n",
       "      <td>m</td>\n",
       "      <td>y</td>\n",
       "      <td>ford</td>\n",
       "      <td>edge</td>\n",
       "      <td>2011</td>\n",
       "      <td>...</td>\n",
       "      <td>sidewalk</td>\n",
       "      <td>cyclist</td>\n",
       "      <td>7700</td>\n",
       "      <td>NaN</td>\n",
       "      <td>NaN</td>\n",
       "      <td>237233</td>\n",
       "      <td>11-1002(b)</td>\n",
       "      <td>refused</td>\n",
       "      <td>cyclist on sidewalk, didn't stop at intersection</td>\n",
       "      <td>[40.5098029, -89.00439019999999]</td>\n",
       "    </tr>\n",
       "    <tr>\n",
       "      <th>1</th>\n",
       "      <td>14-575</td>\n",
       "      <td>06/04/14</td>\n",
       "      <td>03:23:00 PM</td>\n",
       "      <td>unknown</td>\n",
       "      <td>Anna M. Eastman</td>\n",
       "      <td>f</td>\n",
       "      <td>y</td>\n",
       "      <td>ford</td>\n",
       "      <td>taurus</td>\n",
       "      <td>2004</td>\n",
       "      <td>...</td>\n",
       "      <td>parking_lot</td>\n",
       "      <td>no</td>\n",
       "      <td>na</td>\n",
       "      <td>NaN</td>\n",
       "      <td>NaN</td>\n",
       "      <td>NaN</td>\n",
       "      <td>NaN</td>\n",
       "      <td>bromenn</td>\n",
       "      <td>kids playing in a parking lot</td>\n",
       "      <td>[40.502852, -88.98104599999999]</td>\n",
       "    </tr>\n",
       "    <tr>\n",
       "      <th>2</th>\n",
       "      <td>14-576</td>\n",
       "      <td>06/04/14</td>\n",
       "      <td>09:40:00 PM</td>\n",
       "      <td>cyclist</td>\n",
       "      <td>Zachery A. Perhoch</td>\n",
       "      <td>m</td>\n",
       "      <td>y</td>\n",
       "      <td>chevrolet</td>\n",
       "      <td>unknown</td>\n",
       "      <td>2009</td>\n",
       "      <td>...</td>\n",
       "      <td>intersection</td>\n",
       "      <td>cyclist</td>\n",
       "      <td>954</td>\n",
       "      <td>NaN</td>\n",
       "      <td>NaN</td>\n",
       "      <td>241473</td>\n",
       "      <td>11-306</td>\n",
       "      <td>bromenn</td>\n",
       "      <td>cyclist ran a red light, hit by car</td>\n",
       "      <td>[40.5049212, -88.9822318]</td>\n",
       "    </tr>\n",
       "    <tr>\n",
       "      <th>3</th>\n",
       "      <td>A2014-778</td>\n",
       "      <td>08/14/14</td>\n",
       "      <td>03:40:00 PM</td>\n",
       "      <td>cyclist</td>\n",
       "      <td>Sarah L. Tretter</td>\n",
       "      <td>f</td>\n",
       "      <td>y</td>\n",
       "      <td>mitsubishi</td>\n",
       "      <td>outlander</td>\n",
       "      <td>2012</td>\n",
       "      <td>...</td>\n",
       "      <td>sidewalk</td>\n",
       "      <td>cyclist</td>\n",
       "      <td>871</td>\n",
       "      <td>NaN</td>\n",
       "      <td>NaN</td>\n",
       "      <td>NaN</td>\n",
       "      <td>NaN</td>\n",
       "      <td>refused</td>\n",
       "      <td>cyclist on sidewalk, didn't stop at intersection</td>\n",
       "      <td>[40.5208051, -88.96081679999999]</td>\n",
       "    </tr>\n",
       "    <tr>\n",
       "      <th>4</th>\n",
       "      <td>A2014-797</td>\n",
       "      <td>08/18/14</td>\n",
       "      <td>05:45:00 PM</td>\n",
       "      <td>motorist</td>\n",
       "      <td>Edward C. Houchens</td>\n",
       "      <td>m</td>\n",
       "      <td>y</td>\n",
       "      <td>cadillac</td>\n",
       "      <td>eldorado</td>\n",
       "      <td>1999</td>\n",
       "      <td>...</td>\n",
       "      <td>crosswalk</td>\n",
       "      <td>no</td>\n",
       "      <td>700</td>\n",
       "      <td>NaN</td>\n",
       "      <td>NaN</td>\n",
       "      <td>NaN</td>\n",
       "      <td>NaN</td>\n",
       "      <td>no</td>\n",
       "      <td>motorist turned into the rear wheel of a cycli...</td>\n",
       "      <td>[40.5049212, -88.9822318]</td>\n",
       "    </tr>\n",
       "  </tbody>\n",
       "</table>\n",
       "<p>5 rows × 25 columns</p>\n",
       "</div>"
      ],
      "text/plain": [
       "          id      date         time     fault         motorist_name  \\\n",
       "0     14-358  03/26/14  05:18:00 PM   cyclist  Jonathan T. Coughlon   \n",
       "1     14-575  06/04/14  03:23:00 PM   unknown       Anna M. Eastman   \n",
       "2     14-576  06/04/14  09:40:00 PM   cyclist    Zachery A. Perhoch   \n",
       "3  A2014-778  08/14/14  03:40:00 PM   cyclist      Sarah L. Tretter   \n",
       "4  A2014-797  08/18/14  05:45:00 PM  motorist    Edward C. Houchens   \n",
       "\n",
       "  motorist_gender insured    veh_make  veh_model veh_year  \\\n",
       "0               m       y        ford       edge     2011   \n",
       "1               f       y        ford     taurus     2004   \n",
       "2               m       y   chevrolet    unknown     2009   \n",
       "3               f       y  mitsubishi  outlander     2012   \n",
       "4               m       y    cadillac   eldorado     1999   \n",
       "\n",
       "                 ...                location_bike   arrest officer_id  \\\n",
       "0                ...                     sidewalk  cyclist       7700   \n",
       "1                ...                  parking_lot       no         na   \n",
       "2                ...                 intersection  cyclist        954   \n",
       "3                ...                     sidewalk  cyclist        871   \n",
       "4                ...                    crosswalk       no        700   \n",
       "\n",
       "  m_citation m_section c_citation   c_section hospital  \\\n",
       "0        NaN       NaN     237233  11-1002(b)  refused   \n",
       "1        NaN       NaN        NaN         NaN  bromenn   \n",
       "2        NaN       NaN     241473      11-306  bromenn   \n",
       "3        NaN       NaN        NaN         NaN  refused   \n",
       "4        NaN       NaN        NaN         NaN       no   \n",
       "\n",
       "                                             summary  \\\n",
       "0   cyclist on sidewalk, didn't stop at intersection   \n",
       "1                      kids playing in a parking lot   \n",
       "2                cyclist ran a red light, hit by car   \n",
       "3   cyclist on sidewalk, didn't stop at intersection   \n",
       "4  motorist turned into the rear wheel of a cycli...   \n",
       "\n",
       "                           lat_long  \n",
       "0  [40.5098029, -89.00439019999999]  \n",
       "1   [40.502852, -88.98104599999999]  \n",
       "2         [40.5049212, -88.9822318]  \n",
       "3  [40.5208051, -88.96081679999999]  \n",
       "4         [40.5049212, -88.9822318]  \n",
       "\n",
       "[5 rows x 25 columns]"
      ]
     },
     "execution_count": 90,
     "metadata": {},
     "output_type": "execute_result"
    }
   ],
   "source": [
    "df.head()"
   ]
  },
  {
   "cell_type": "code",
   "execution_count": 117,
   "metadata": {
    "collapsed": false
   },
   "outputs": [],
   "source": [
    "bike_locs_percent= df.location_bike.value_counts() / df.location_bike.value_counts().sum()"
   ]
  },
  {
   "cell_type": "code",
   "execution_count": null,
   "metadata": {
    "collapsed": true
   },
   "outputs": [],
   "source": []
  },
  {
   "cell_type": "code",
   "execution_count": 123,
   "metadata": {
    "collapsed": false
   },
   "outputs": [
    {
     "data": {
      "text/plain": [
       "<matplotlib.axes._subplots.AxesSubplot at 0x7f6237235fd0>"
      ]
     },
     "execution_count": 123,
     "metadata": {},
     "output_type": "execute_result"
    },
    {
     "data": {
      "image/png": "[encoded data removed]",
      "text/plain": [
       "<matplotlib.figure.Figure at 0x7f623721d9d0>"
      ]
     },
     "metadata": {},
     "output_type": "display_data"
    }
   ],
   "source": [
    "bike_locs_percent.plot(kind='barh')"
   ]
  },
  {
   "cell_type": "code",
   "execution_count": 91,
   "metadata": {
    "collapsed": false
   },
   "outputs": [],
   "source": [
    "#Who was at fault?\n",
    "\n",
    "data = Data([\n",
    "    Bar(\n",
    "        x = df.fault.value_counts().index,\n",
    "        y = df.fault.value_counts().values\n",
    "    )\n",
    "])\n",
    "\n",
    "layout = Layout(\n",
    "    title='Who Was At Fault',\n",
    ")\n",
    "\n",
    "fig=Figure(data=data, layout=layout)\n",
    "plot_url = py.plot(fig, filename='fault_values')"
   ]
  },
  {
   "cell_type": "code",
   "execution_count": 84,
   "metadata": {
    "collapsed": false
   },
   "outputs": [],
   "source": [
    "def get_hour(x):\n",
    "    hour = int(x.split(':')[0])\n",
    "    if x.split(' ')[1] =='PM':\n",
    "        hour += 12\n",
    "    return hour\n",
    "\n",
    "hours = df.time.map(get_hour)"
   ]
  },
  {
   "cell_type": "code",
   "execution_count": 86,
   "metadata": {
    "collapsed": false
   },
   "outputs": [],
   "source": [
    "def get_month(x):\n",
    "    month = int(x.split('/')[0])\n",
    "    \n",
    "    return month\n",
    "\n",
    "months = df.date.map(get_month)"
   ]
  },
  {
   "cell_type": "code",
   "execution_count": 83,
   "metadata": {
    "collapsed": false
   },
   "outputs": [],
   "source": [
    "#What Time do crashes happen?\n",
    "\n",
    "data = Data([\n",
    "    Histogram(\n",
    "        x = hours,\n",
    "        histnorm='count',\n",
    "        autobinx=False,\n",
    "        xbins=XBins(\n",
    "        start=0,\n",
    "        end=24,\n",
    "        size=1\n",
    "    ),\n",
    ")])\n",
    "\n",
    "layout = Layout(\n",
    "    title='What Times Do Crashes Occur At?',\n",
    "    \n",
    "     xaxis=XAxis(\n",
    "        title='Hour'\n",
    "    ),\n",
    "    yaxis=YAxis(\n",
    "        title='Count'\n",
    "    ),\n",
    ")\n",
    "\n",
    "fig=Figure(data=data, layout=layout)\n",
    "plot_url = py.plot(fig, filename='time_hist')"
   ]
  },
  {
   "cell_type": "code",
   "execution_count": 87,
   "metadata": {
    "collapsed": true
   },
   "outputs": [],
   "source": [
    "#What Months Do Crashes Occur?\n",
    "\n",
    "data = Data([\n",
    "    Histogram(\n",
    "        x = months,\n",
    "        histnorm='count',\n",
    "        autobinx=False,\n",
    "        xbins=XBins(\n",
    "        start=0,\n",
    "        end=12,\n",
    "        size=1\n",
    "    ),\n",
    ")])\n",
    "\n",
    "layout = Layout(\n",
    "    title='What Times Do Crashes Occur At?',\n",
    "    \n",
    "     xaxis=XAxis(\n",
    "        title='Month'\n",
    "    ),\n",
    "    yaxis=YAxis(\n",
    "        title='Count'\n",
    "    ),\n",
    ")\n",
    "\n",
    "fig=Figure(data=data, layout=layout)\n",
    "plot_url = py.plot(fig, filename='month_hist')"
   ]
  },
  {
   "cell_type": "code",
   "execution_count": null,
   "metadata": {
    "collapsed": true
   },
   "outputs": [],
   "source": []
  }
 ],
 "metadata": {
  "kernelspec": {
   "display_name": "Python 2",
   "language": "python",
   "name": "python2"
  },
  "language_info": {
   "codemirror_mode": {
    "name": "ipython",
    "version": 2
   },
   "file_extension": ".py",
   "mimetype": "text/x-python",
   "name": "python",
   "nbconvert_exporter": "python",
   "pygments_lexer": "ipython2",
   "version": "2.7.10"
  }
 },
 "nbformat": 4,
 "nbformat_minor": 0
}
