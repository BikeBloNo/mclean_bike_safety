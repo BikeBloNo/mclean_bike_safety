{
 "cells": [
  {
   "cell_type": "code",
   "execution_count": 1,
   "metadata": {
    "collapsed": false
   },
   "outputs": [],
   "source": [
    "%matplotlib inline\n",
    "import pandas as pd\n",
    "import numpy as np\n",
    "from scipy import stats\n",
    "import datetime\n",
    "\n",
    "from matplotlib import pyplot as plt\n",
    "import seaborn as sns\n",
    "sns.set_style(\"whitegrid\")"
   ]
  },
  {
   "cell_type": "code",
   "execution_count": 2,
   "metadata": {
    "collapsed": true
   },
   "outputs": [],
   "source": [
    "mclean_df = pd.read_csv(\"mclean_county_data_with_geocode.csv\")\n",
    "mclean_df = mclean_df.drop(['Unnamed: 0'], axis=1)"
   ]
  },
  {
   "cell_type": "code",
   "execution_count": 3,
   "metadata": {
    "collapsed": false
   },
   "outputs": [],
   "source": [
    "normal_df = pd.read_csv(\"normal_il_data_w_geocode.csv\")\n",
    "normal_df = normal_df.drop(['Unnamed: 0'], axis=1)"
   ]
  },
  {
   "cell_type": "code",
   "execution_count": 4,
   "metadata": {
    "collapsed": true
   },
   "outputs": [],
   "source": [
    "bloomington_df = pd.read_csv(\"bloomington_il_engineering_2014plus_w_geocode.csv\")\n"
   ]
  },
  {
   "cell_type": "code",
   "execution_count": 5,
   "metadata": {
    "collapsed": false
   },
   "outputs": [
    {
     "name": "stdout",
     "output_type": "stream",
     "text": [
      " 3.04 crashes per 10,000 people in bloomington\n",
      " 2.56 crashes per 10,000 people in normal\n",
      " 8.28 crashes per 10,000 people in chicago\n",
      "null hypothesis is that bloomington and normal are equally safe for bikers\n",
      "p = 0.728471603505\n",
      "fail to reject the null at p < 0.5\n",
      "null hypothesis is that bloomington and chicago are equally safe for bikers\n",
      "p = 1.08761047445e-11\n",
      "reject the null at p < 0.5\n"
     ]
    }
   ],
   "source": [
    "#how many accidents were in bloomington, and normal\n",
    "\n",
    "normal_count = normal_df.shape[0]\n",
    "bloomington_count = bloomington_df.shape[0]\n",
    "chicago_count = 2250\n",
    "\n",
    "BLOOMINGTON_POP = 78902\n",
    "NORMAL_POP= 54664\n",
    "CHICAGO_POP = 2719000\n",
    "\n",
    "blono_crash_per_capita = bloomington_count / float(BLOOMINGTON_POP)\n",
    "normal_crash_per_capita = normal_count / float(NORMAL_POP)\n",
    "chicago_crash_per_captia = chicago_count / float(CHICAGO_POP)\n",
    "\n",
    "\n",
    "print \" %0.2f crashes per 10,000 people in bloomington\" % ( blono_crash_per_capita * 10000)\n",
    "print  \" %0.2f crashes per 10,000 people in normal\" % (normal_crash_per_capita * 10000)\n",
    "print  \" %0.2f crashes per 10,000 people in chicago\" % (chicago_crash_per_captia * 10000)\n",
    "\n",
    "\n",
    "\n",
    "#Going to just use X2 here because lazy, sorry Bayesians.\n",
    "\n",
    "obs = np.array(([normal_count, NORMAL_POP-normal_count], [bloomington_count, BLOOMINGTON_POP-bloomington_count]))\n",
    "chi2, p, dof, expected = stats.chi2_contingency(obs)\n",
    "print 'null hypothesis is that bloomington and normal are equally safe for bikers'\n",
    "print \"p = \" +  str(p)\n",
    "print \"fail to reject the null at p < 0.5\"\n",
    "\n",
    "obs = np.array(([normal_count+bloomington_count, NORMAL_POP-normal_count+(BLOOMINGTON_POP-bloomington_count)],[chicago_count, CHICAGO_POP-chicago_count]))\n",
    "chi2, p, dof, expected = stats.chi2_contingency(obs)\n",
    "print 'null hypothesis is that bloomington and chicago are equally safe for bikers'\n",
    "print \"p = \" +  str(p)\n",
    "print \"reject the null at p < 0.5\"\n"
   ]
  },
  {
   "cell_type": "markdown",
   "metadata": {},
   "source": [
    "# Deeper Statistical Analysis\n",
    "\n",
    "Problems - \n",
    "*  bike accidents are very rare (Future Mike:  Talk to AC.   You've found a zero inflated Poisson problem)\n",
    "*  not much commonality between these datasets.\n",
    "*  Bloomington's open data sucks\n",
    "\n",
    "\n",
    "Approach\n",
    "* take the common variables I do have\n",
    "* engineer features\n",
    "* descriptive stats on when accidents happen maybe?\n",
    "* could try unsupervised ML\n",
    "* ???"
   ]
  },
  {
   "cell_type": "code",
   "execution_count": 6,
   "metadata": {
    "collapsed": true
   },
   "outputs": [],
   "source": [
    "#combine common fields across datasets.\n",
    "normal_clean = pd.DataFrame()\n",
    "normal_clean['date'] = normal_df.date\n",
    "normal_clean['time'] = normal_df.time\n",
    "normal_clean['geo_loc'] = normal_df.geo_loc\n",
    "normal_clean['lat_long'] = normal_df.lat_long\n",
    "normal_clean['id'] = normal_df.id\n",
    "\n",
    "bloomington_clean = pd.DataFrame()\n",
    "bloomington_clean['date'] = bloomington_df.AC_DATE\n",
    "bloomington_clean['time'] = bloomington_df.AC_TIME\n",
    "bloomington_clean['geo_loc'] = bloomington_df.intersection\n",
    "bloomington_clean['lat_long'] = bloomington_df.lat_long\n",
    "bloomington_clean['id'] = bloomington_df.REPORT_NO\n",
    "\n",
    "\n",
    "mclean_clean = pd.DataFrame()\n",
    "mclean_clean['date'] = mclean_df.date\n",
    "mclean_clean['time'] = mclean_df.time\n",
    "mclean_clean['geo_loc'] = mclean_df.geo_loc\n",
    "mclean_clean['lat_long'] = mclean_df.lat_long\n",
    "mclean_clean['id'] = mclean_df.id\n",
    "\n",
    "complete_df = bloomington_clean.append([normal_clean, mclean_clean], ignore_index=True)"
   ]
  },
  {
   "cell_type": "code",
   "execution_count": 8,
   "metadata": {
    "collapsed": true
   },
   "outputs": [],
   "source": [
    "#break out month, day, year\n",
    "\n",
    "def get_month_day_year(date):\n",
    "    month, day, year = date.split(\"/\")\n",
    "\n",
    "    return int(month), int(day), int(year)\n",
    "\n",
    "complete_df['month'], complete_df['day'], complete_df['year'] = zip(*complete_df.date.map(get_month_day_year))"
   ]
  },
  {
   "cell_type": "code",
   "execution_count": 9,
   "metadata": {
    "collapsed": false
   },
   "outputs": [],
   "source": [
    "#time as an hour bin (could also do seconds of day or something for continuous, this is more human understandable)\n",
    "\n",
    "def bin_hours(time):\n",
    "    hour = int(time.split(':')[0])\n",
    "    am_pm = time.split(' ')[1].lower()\n",
    "    if am_pm == 'pm':\n",
    "        hour +=12\n",
    "    return hour\n",
    "\n",
    "complete_df['hour_bin'] = complete_df.time.map(bin_hours)"
   ]
  },
  {
   "cell_type": "code",
   "execution_count": 10,
   "metadata": {
    "collapsed": false
   },
   "outputs": [],
   "source": [
    "#clean up lat and long\n",
    "\n",
    "def clean_lat_long(x):\n",
    "    x = x.strip('[]')\n",
    "    latitude, longitude = x.split(',')\n",
    "    return float(latitude), float(longitude)\n",
    "\n",
    "\n",
    "complete_df['latitude'], complete_df['longitude'] = zip(*complete_df.lat_long.map(clean_lat_long))      "
   ]
  },
  {
   "cell_type": "code",
   "execution_count": 11,
   "metadata": {
    "collapsed": false
   },
   "outputs": [],
   "source": [
    "#day of week feature\n",
    "\n",
    "def day_of_week(date):\n",
    "    month, day, year = (int(x) for x in date.split('/'))\n",
    "    if year < 99:\n",
    "        year = 2000 + year   #do you want y3k, because this is how you get y3k\n",
    "    dt = datetime.date(year, month, day)\n",
    "    return dt.strftime(\"%A\")\n",
    "\n",
    "complete_df['day_of_week'] = complete_df.date.map(day_of_week)"
   ]
  },
  {
   "cell_type": "code",
   "execution_count": 31,
   "metadata": {
    "collapsed": false
   },
   "outputs": [
    {
     "data": {
      "text/plain": [
       "(40, 12)"
      ]
     },
     "execution_count": 31,
     "metadata": {},
     "output_type": "execute_result"
    }
   ],
   "source": [
    "complete_df.shape"
   ]
  },
  {
   "cell_type": "markdown",
   "metadata": {},
   "source": [
    "###TODO\n",
    "\n",
    "*  MDS \n",
    "*  K-Means"
   ]
  },
  {
   "cell_type": "code",
   "execution_count": 30,
   "metadata": {
    "collapsed": false
   },
   "outputs": [
    {
     "data": {
      "image/png": "[encoded data removed]",
      "text/plain": [
       "<matplotlib.figure.Figure at 0x7facc57240d0>"
      ]
     },
     "metadata": {},
     "output_type": "display_data"
    }
   ],
   "source": [
    "#visualize month\n",
    "plt.figure(figsize=(10,5))\n",
    "plt.title(\"McLean County Crashes by Month\")\n",
    "sns.countplot(x=\"month\", data=complete_df, palette=\"Blues\")\n",
    "plt.legend()"
   ]
  },
  {
   "cell_type": "code",
   "execution_count": 28,
   "metadata": {
    "collapsed": false
   },
   "outputs": [
    {
     "data": {
      "image/png": "[encoded data removed]",
      "text/plain": [
       "<matplotlib.figure.Figure at 0x7facc5735750>"
      ]
     },
     "metadata": {},
     "output_type": "display_data"
    }
   ],
   "source": [
    "#visualize time\n",
    "plt.figure(figsize=(10,5))\n",
    "plt.title(\"McLean County Crashes by Hour\")\n",
    "sns.countplot(x=\"hour_bin\", data=complete_df, palette=\"Blues\", order = sorted(complete_df.hour_bin.unique()))\n",
    "plt.xlabel(\"Hour of the Day\")\n",
    "plt.legend()"
   ]
  },
  {
   "cell_type": "code",
   "execution_count": 27,
   "metadata": {
    "collapsed": false
   },
   "outputs": [
    {
     "data": {
      "image/png": "[encoded data removed]",
      "text/plain": [
       "<matplotlib.figure.Figure at 0x7facc51e7710>"
      ]
     },
     "metadata": {},
     "output_type": "display_data"
    }
   ],
   "source": [
    "#visualize day\n",
    "plt.figure(figsize=(10,5))\n",
    "plt.title(\"McLean County Crashes by Day of Week\")\n",
    "sns.countplot(x=\"day_of_week\", data=complete_df, palette=\"Blues\", order =['Monday', 'Tuesday', \n",
    "                                                                             'Wednesday', 'Thursday','Friday',\n",
    "                                                                             'Saturday','Sunday'] )\n",
    "plt.xlabel(\"Day of the Week\")\n",
    "plt.legend()"
   ]
  },
  {
   "cell_type": "code",
   "execution_count": 37,
   "metadata": {
    "collapsed": false
   },
   "outputs": [
    {
     "data": {
      "text/plain": [
       "0      cyclist on sidewalk, didn't stop at intersection\n",
       "1                         kids playing in a parking lot\n",
       "2                   cyclist ran a red light, hit by car\n",
       "3      cyclist on sidewalk, didn't stop at intersection\n",
       "4     motorist turned into the rear wheel of a cycli...\n",
       "5     motorist looking left, hit cyclist crossing in...\n",
       "6     motorist proceeded thru crosswalk without seei...\n",
       "7     drunk cyclist, riding at night without lights,...\n",
       "8     driver was looking south for traffic, pulled f...\n",
       "9     driver was looking east for traffic and hit cy...\n",
       "10    apparently both driver and cyclist failed to s...\n",
       "11    cyclist was hit from behind, hit and run, mult...\n",
       "12    juvenile cyclist riding down an alley hit a ca...\n",
       "13    cyclist riding at night with no headlight, dar...\n",
       "Name: summary, dtype: object"
      ]
     },
     "execution_count": 37,
     "metadata": {},
     "output_type": "execute_result"
    }
   ],
   "source": [
    "normal_df.summary"
   ]
  },
  {
   "cell_type": "code",
   "execution_count": null,
   "metadata": {
    "collapsed": true
   },
   "outputs": [],
   "source": []
  }
 ],
 "metadata": {
  "kernelspec": {
   "display_name": "Python 2",
   "language": "python",
   "name": "python2"
  },
  "language_info": {
   "codemirror_mode": {
    "name": "ipython",
    "version": 2
   },
   "file_extension": ".py",
   "mimetype": "text/x-python",
   "name": "python",
   "nbconvert_exporter": "python",
   "pygments_lexer": "ipython2",
   "version": "2.7.10"
  }
 },
 "nbformat": 4,
 "nbformat_minor": 0
}
